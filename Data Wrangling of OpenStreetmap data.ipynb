{
 "cells": [
  {
   "cell_type": "markdown",
   "metadata": {},
   "source": [
    "# Data Wrangling OpenStreetMap"
   ]
  },
  {
   "cell_type": "markdown",
   "metadata": {},
   "source": [
    "A xml osm file was downloaded for a selected area from OpenStreetMap.org. This report details the data auditing and cleaning performed on the raw dataset. After the data is cleaned, it is transformed and stored in a Sqlite database. With the stored dataset, the data and the chosen area are further explored."
   ]
  },
  {
   "cell_type": "markdown",
   "metadata": {},
   "source": [
    "## Map"
   ]
  },
  {
   "cell_type": "raw",
   "metadata": {},
   "source": [
    "I am using Las Vegas map for the analysis."
   ]
  },
  {
   "cell_type": "markdown",
   "metadata": {},
   "source": [
    "## Data Auditing"
   ]
  },
  {
   "cell_type": "markdown",
   "metadata": {},
   "source": [
    "After auditing the street and postal code data, I found the following issues with the data source. The las_vegas_audit.py script is used to audit and find below issues. \n",
    "1. Various street name abbreviations for Avenue, Road, Boulevard, Parkway and Street are present. \n",
    "2. Some of the street names have numbers at the end of the name, although this issue is small. For Ex., '1': set(['Spanish Ridge Ave., Suite 1']\n",
    "3. Some postal codes have more than 5 digits and some have alphabets at the begenning. Except one, all postal codes start with 89, which are the starting digits of postal codes in Las vegas."
   ]
  },
  {
   "cell_type": "markdown",
   "metadata": {},
   "source": [
    "Below mapping dictionary is created to change the abbreviated street names. update_street_name function is used to clean street names."
   ]
  },
  {
   "cell_type": "raw",
   "metadata": {},
   "source": [
    "mapping = { \"St\": \"Street\", \n",
    "            \"St.\": \"Street\",\n",
    "            \"Ave\" : \"Avenue\",\n",
    "            \"Ave.\": \"Avenue\",\n",
    "            \"Blvd\": \"Boulevard\",\n",
    "            \"Blv\": \"Boulevard\",\n",
    "            \"Blvd.\": \"Boulevard\",\n",
    "            \"Rd.\": \"Road\",\n",
    "            \"Rd\": \"Road\",\n",
    "            \"E\" : \"East\",\n",
    "            \"W\" : \"West\",\n",
    "            \"S\" : \"South\",\n",
    "            \"N\" : \"North\"\n",
    "            }"
   ]
  },
  {
   "cell_type": "markdown",
   "metadata": {},
   "source": [
    "First five digits in postal code is extracted to clean the postal codes. update_postal_code function is used to extract first five digits of the postal code."
   ]
  },
  {
   "cell_type": "markdown",
   "metadata": {},
   "source": [
    "## Process XML elements and create csv"
   ]
  },
  {
   "cell_type": "markdown",
   "metadata": {},
   "source": [
    "After cleaning street names and postal codes, XML elements are processed using las_vegas_csv.py script and below csv files are created. Using csv_db.py, data base tables have been created from csv files.\n",
    "\n",
    "    las_vegas.osm ----> 215.7 MB\n",
    "    las_vegas.db -----> 150 MB\n",
    "    nodes.csv --------> 80.8 MB\n",
    "    nodes_tags.csv ---> 2.9 MB\n",
    "    ways.csv ---------> 7.9 MB\n",
    "    ways_nodes.csv ---> 27.5 MB\n",
    "    ways_tags.csv ----> 13 MB"
   ]
  },
  {
   "cell_type": "markdown",
   "metadata": {},
   "source": [
    "## Data exploration"
   ]
  },
  {
   "cell_type": "markdown",
   "metadata": {},
   "source": [
    "### Number of nodes"
   ]
  },
  {
   "cell_type": "markdown",
   "metadata": {},
   "source": [
    "```sql\n",
    "SELECT COUNT(*) FROM nodes;\n",
    "```"
   ]
  },
  {
   "cell_type": "raw",
   "metadata": {},
   "source": [
    "936445"
   ]
  },
  {
   "cell_type": "markdown",
   "metadata": {},
   "source": [
    "### Number of ways"
   ]
  },
  {
   "cell_type": "markdown",
   "metadata": {},
   "source": [
    "```sql\n",
    "SELECT COUNT(*) FROM ways;\n",
    "```"
   ]
  },
  {
   "cell_type": "raw",
   "metadata": {},
   "source": [
    "127183"
   ]
  },
  {
   "cell_type": "markdown",
   "metadata": {},
   "source": [
    "### Number of distinct users"
   ]
  },
  {
   "cell_type": "markdown",
   "metadata": {},
   "source": [
    "```sql \n",
    "SELECT count(distinct uid) FROM (SELECT uid FROM nodes UNION ALL SELECT uid FROM ways) users; \n",
    "```"
   ]
  },
  {
   "cell_type": "raw",
   "metadata": {},
   "source": [
    "1374"
   ]
  },
  {
   "cell_type": "markdown",
   "metadata": {},
   "source": [
    "### Top 10 contributers"
   ]
  },
  {
   "cell_type": "markdown",
   "metadata": {},
   "source": [
    "```sql\n",
    "SELECT uid,count(*) AS num_contributions\n",
    "FROM (SELECT uid FROM nodes UNION ALL SELECT uid FROM ways) a\n",
    "GROUP BY 1\n",
    "ORDER BY num_contributions DESC\n",
    "LIMIT 10;\n",
    "```"
   ]
  },
  {
   "cell_type": "raw",
   "metadata": {},
   "source": [
    "uid|num_contributions\n",
    "7225438|94274\n",
    "1330847|71964\n",
    "214103|60791\n",
    "496923|44033\n",
    "9520187|40580\n",
    "147510|39261\n",
    "9515186|35840\n",
    "574654|30147\n",
    "336460|27731\n",
    "5288591|26594"
   ]
  },
  {
   "cell_type": "markdown",
   "metadata": {},
   "source": [
    "## Street names with numbers in the end\n",
    "\n",
    "We can see below that we have street names with numbers in them. These street names should be cleaned in order to improve the data quality."
   ]
  },
  {
   "cell_type": "markdown",
   "metadata": {},
   "source": [
    "```sql\n",
    "SELECT value\n",
    "FROM nodes_tags\n",
    "WHERE key='street' AND value REGEXP '[[:digit:]]$'\n",
    "GROUP BY 1\n",
    "LIMIT 10;\n",
    "```"
   ]
  },
  {
   "cell_type": "raw",
   "metadata": {},
   "source": [
    "Howard Hughes Parkway, Suite 500\n",
    "Lindell #D722\n",
    "North Hualapai Way #115\n",
    "S Decatur Blvd #107\n",
    "S Grand Canyon Dr #106\n",
    "S. Valley View Blvd. Ste 10\n",
    "South 4th Street, STE 500\n",
    "South Jones Boulevard Suite 110\n",
    "South Pecos Road Suite 103\n",
    "Sunrise Ave #103"
   ]
  },
  {
   "cell_type": "markdown",
   "metadata": {},
   "source": [
    "### Top Cities and Provinces"
   ]
  },
  {
   "cell_type": "markdown",
   "metadata": {},
   "source": [
    "```sql\n",
    "SELECT value,count(*) as num\n",
    "FROM\n",
    "(\n",
    "  SELECT value FROM nodes_tags WHERE key='city' or key='province'\n",
    "  UNION ALL\n",
    "  SELECT value FROM ways_tags WHERE key='city' or key='province'\n",
    ")\n",
    "GROUP BY 1\n",
    "ORDER BY 2;\n",
    "```"
   ]
  },
  {
   "cell_type": "raw",
   "metadata": {},
   "source": [
    "value|num\n",
    "Las Vegas|792\n",
    "North Las Vegas|139\n",
    "Henderson|19\n",
    "Sunrise Manor|18\n",
    "Paradise|13\n",
    "Las Vegas, NV|4\n",
    "Las Vagas|3\n",
    "Spring Valley|2\n",
    "las vegas|2\n",
    "Las Vegas NV|1\n",
    "Las Veggas|1\n",
    "Nellis AFB|1\n",
    "Nellis Air Force Base|1\n",
    "Whitney|1"
   ]
  },
  {
   "cell_type": "markdown",
   "metadata": {},
   "source": [
    "### Top amenities"
   ]
  },
  {
   "cell_type": "markdown",
   "metadata": {},
   "source": [
    "```sql\n",
    "SELECT value,count(*)\n",
    "FROM nodes_tags\n",
    "WHERE key='amenity'\n",
    "GROUP BY 1\n",
    "ORDER BY count(*) DESC\n",
    "LIMIT 20;\n",
    "```"
   ]
  },
  {
   "cell_type": "raw",
   "metadata": {},
   "source": [
    "restaurant|498\n",
    "fast_food|315\n",
    "fuel|304\n",
    "fountain|273\n",
    "place_of_worship|250\n",
    "school|143\n",
    "bar|98\n",
    "cafe|76\n",
    "bench|72\n",
    "bank|68\n",
    "toilets|55\n",
    "parking_entrance|54\n",
    "pharmacy|42\n",
    "post_office|40\n",
    "parking|35\n",
    "loading_dock|34\n",
    "waste_disposal|31\n",
    "fire_station|30\n",
    "car_wash|26\n",
    "bicycle_rental|21"
   ]
  },
  {
   "cell_type": "markdown",
   "metadata": {},
   "source": [
    "I'm surprised to not see hotels in the top list of amenities in Vegas. So, I dig deeper into the top keys.\n",
    "\n",
    "### Count of keys\n",
    "\n",
    "```sql\n",
    "SELECT key,count(*)\n",
    "FROM nodes_tags\n",
    "GROUP BY 1\n",
    "ORDER BY count(*) DESC\n",
    "LIMIT 20;\n",
    "```"
   ]
  },
  {
   "cell_type": "raw",
   "metadata": {},
   "source": [
    "highway|20036\n",
    "power|7219\n",
    "name|3638\n",
    "noexit|3612\n",
    "source|2995\n",
    "amenity|2802\n",
    "created_by|2559\n",
    "barrier|2133\n",
    "crossing|1692\n",
    "natural|1499\n",
    "type|1486\n",
    "output:electricity|1362\n",
    "method|1356\n",
    "location|1355\n",
    "street|1029\n",
    "housenumber|1001\n",
    "postcode|950\n",
    "wikidata|903\n",
    "brand|862\n",
    "wikipedia|855"
   ]
  },
  {
   "cell_type": "markdown",
   "metadata": {},
   "source": [
    "I don't see any other key that might give information about amenities. So, lets check top streets and postal codes.\n",
    "\n",
    "### Top streets and postal codes"
   ]
  },
  {
   "cell_type": "markdown",
   "metadata": {},
   "source": [
    "```sql\n",
    "SELECT value,count(*)\n",
    "FROM nodes_tags\n",
    "WHERE key='street'\n",
    "GROUP BY 1\n",
    "ORDER BY count(*) DESC\n",
    "LIMIT 20;\n",
    "```"
   ]
  },
  {
   "cell_type": "raw",
   "metadata": {},
   "source": [
    "West Charleston Boulevard|94\n",
    "West Sahara Avenue|87\n",
    "South Las Vegas Boulevard|53\n",
    "South Fort Apache Road|33\n",
    "West Cheyenne Avenue|31\n",
    "East Sahara Avenue|26\n",
    "Festival Plaza Drive|26\n",
    "South Nellis Boulevard|26\n",
    "East Flamingo Road|23\n",
    "West Flamingo Road|21\n",
    "West Tropicana Avenue|21\n",
    "Boulder Highway|20\n",
    "North Nellis Boulevard|20\n",
    "East Tropicana Avenue|19\n",
    "East Desert Inn Road|17\n",
    "North Rainbow Boulevard|17\n",
    "Red Rock Resort|17\n",
    "South Maryland Parkway|17\n",
    "Fremont Street|16\n",
    "South Rainbow Boulevard|12"
   ]
  },
  {
   "cell_type": "markdown",
   "metadata": {},
   "source": [
    "We see some famous streets in the list."
   ]
  },
  {
   "cell_type": "markdown",
   "metadata": {},
   "source": [
    "```sql\n",
    "SELECT value,count(*)\n",
    "FROM nodes_tags\n",
    "WHERE key='postcode'\n",
    "GROUP BY 1\n",
    "ORDER BY count(*) DESC\n",
    "LIMIT 20;\n",
    "```"
   ]
  },
  {
   "cell_type": "raw",
   "metadata": {},
   "source": [
    "89135|104\n",
    "89109|93\n",
    "89117|92\n",
    "89101|57\n",
    "89102|56\n",
    "89121|55\n",
    "89104|42\n",
    "89147|37\n",
    "89119|34\n",
    "89146|33\n",
    "89103|32\n",
    "89108|32\n",
    "89129|27\n",
    "89128|22\n",
    "89169|22\n",
    "89115|20\n",
    "89122|20\n",
    "89138|19\n",
    "89110|17\n",
    "89030|16"
   ]
  },
  {
   "cell_type": "markdown",
   "metadata": {},
   "source": [
    "### Top 10 cuisines"
   ]
  },
  {
   "cell_type": "markdown",
   "metadata": {},
   "source": [
    "```sql\n",
    "SELECT nodes_tags.value, COUNT(*) as num\n",
    "FROM nodes_tags \n",
    "    JOIN (SELECT DISTINCT(id) FROM nodes_tags WHERE value='restaurant') i\n",
    "    ON nodes_tags.id=i.id\n",
    "WHERE nodes_tags.key='cuisine'\n",
    "GROUP BY nodes_tags.value\n",
    "ORDER BY num DESC\n",
    "LIMIT 10;\n",
    "```"
   ]
  },
  {
   "cell_type": "raw",
   "metadata": {},
   "source": [
    "mexican|50\n",
    "american|44\n",
    "pizza|37\n",
    "italian|23\n",
    "asian|16\n",
    "steak_house|16\n",
    "japanese|13\n",
    "chinese|11\n",
    "thai|11\n",
    "burger|8"
   ]
  },
  {
   "cell_type": "markdown",
   "metadata": {},
   "source": [
    "## Conclusion"
   ]
  },
  {
   "cell_type": "markdown",
   "metadata": {},
   "source": [
    "Las Vegas dataset has been actively contributed by users. However, the dataset has a few data quality issues such as typos in street names, city & province names and postal codes.  \n",
    "\n",
    "These typos could be reduced by implementing country and city specific rules. For example, users should not be allowed to enter postal codes more than five digits and it should start from 88 or 89 for Las Vegas. Another way to reduce typos could be to suggest correct city or street names in case a user is typing wrong spelling. However, these solutions should be quick to adapt to future changes in the street names and postal codes. This requires a great deal of effort from OpenStreetMap community when done in a world scale. If the community is not quick to adapt the content, it could block users from entering current information and would discourage them from future contribution.\n",
    "\n",
    "As a further work, the Las Vegas map could be improved with information of famous, tourist locations. In order to clean the dataset further, regular expressions could be used to clean street names that have numbers at the end."
   ]
  }
 ],
 "metadata": {
  "kernelspec": {
   "display_name": "Python 3",
   "language": "python",
   "name": "python3"
  },
  "language_info": {
   "codemirror_mode": {
    "name": "ipython",
    "version": 3
   },
   "file_extension": ".py",
   "mimetype": "text/x-python",
   "name": "python",
   "nbconvert_exporter": "python",
   "pygments_lexer": "ipython3",
   "version": "3.7.4"
  }
 },
 "nbformat": 4,
 "nbformat_minor": 4
}
